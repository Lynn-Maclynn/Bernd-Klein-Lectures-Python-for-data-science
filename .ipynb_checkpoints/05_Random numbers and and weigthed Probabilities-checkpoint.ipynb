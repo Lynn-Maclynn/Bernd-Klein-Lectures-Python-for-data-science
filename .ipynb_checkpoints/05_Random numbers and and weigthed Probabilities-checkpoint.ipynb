{
 "cells": [
  {
   "cell_type": "code",
   "execution_count": 1,
   "id": "41db4e6e",
   "metadata": {},
   "outputs": [],
   "source": [
    "import numpy as np"
   ]
  },
  {
   "cell_type": "markdown",
   "id": "4eee6644",
   "metadata": {},
   "source": [
    "**I. THE RANDOM MODULE**"
   ]
  },
  {
   "cell_type": "code",
   "execution_count": 24,
   "id": "ccda6b62",
   "metadata": {},
   "outputs": [
    {
     "name": "stdout",
     "output_type": "stream",
     "text": [
      "0.5736031272912688\n"
     ]
    }
   ],
   "source": [
    "import random\n",
    "\n",
    "print(random.random())"
   ]
  },
  {
   "cell_type": "markdown",
   "id": "ab614976",
   "metadata": {},
   "source": [
    "We will show an alternative and **secure approach in the following example**, in which we will use the class\n",
    " SystemRandom of the random module below: "
   ]
  },
  {
   "cell_type": "code",
   "execution_count": 26,
   "id": "2d2864bd",
   "metadata": {},
   "outputs": [
    {
     "name": "stdout",
     "output_type": "stream",
     "text": [
      "0.06505812831491409\n"
     ]
    }
   ],
   "source": [
    "from random import SystemRandom\n",
    "\n",
    "crypto = SystemRandom()\n",
    "print(crypto.random())"
   ]
  },
  {
   "cell_type": "markdown",
   "id": "da42141a",
   "metadata": {},
   "source": [
    "The random method of the SystemRandom class generates a float number in the range from 0.0 (included) to\n",
    " 1.0 (not included)"
   ]
  },
  {
   "cell_type": "markdown",
   "id": "29c89a68",
   "metadata": {},
   "source": [
    "**GENERATE A LIST OF RANDOM NUMBERS**"
   ]
  },
  {
   "cell_type": "markdown",
   "id": "6ca18ec6",
   "metadata": {},
   "source": [
    "*1. Using pure Python module : random*"
   ]
  },
  {
   "cell_type": "code",
   "execution_count": 25,
   "id": "cc727dba",
   "metadata": {},
   "outputs": [
    {
     "name": "stdout",
     "output_type": "stream",
     "text": [
      "[0.3820621171153087, 0.3820621171153087, 0.3820621171153087, 0.3820621171153087, 0.3820621171153087, 0.3820621171153087, 0.3820621171153087, 0.3820621171153087, 0.3820621171153087, 0.3820621171153087]\n"
     ]
    }
   ],
   "source": [
    "import random\n",
    "\n",
    "def random_list(n, secure = True):\n",
    "    random_floats = []\n",
    "    if secure:\n",
    "        crypto = random.SystemRandom()\n",
    "        random_float = crypto.random()\n",
    "    else:\n",
    "        random_float = random.random()\n",
    "    for _ in range(n):\n",
    "        random_floats.append(random_float)\n",
    "    return random_floats\n",
    "\n",
    "print(random_list(10, secure = False))"
   ]
  },
  {
   "cell_type": "markdown",
   "id": "90b598c6",
   "metadata": {},
   "source": [
    "*2. Using the random package of the numpy module.*"
   ]
  },
  {
   "cell_type": "code",
   "execution_count": 8,
   "id": "2d5bf6e0",
   "metadata": {},
   "outputs": [
    {
     "name": "stdout",
     "output_type": "stream",
     "text": [
      "[0.43643155 0.49606872 0.6276591  0.30965515 0.96143601 0.87360188\n",
      " 0.29577439 0.72982529 0.67729028 0.84130833]\n"
     ]
    }
   ],
   "source": [
    "print(np.random.random(10))"
   ]
  },
  {
   "cell_type": "markdown",
   "id": "46a2536f",
   "metadata": {},
   "source": [
    "The fastest and most efficient way will be using the random package of the numpy module like shown up"
   ]
  },
  {
   "cell_type": "markdown",
   "id": "453f95a4",
   "metadata": {},
   "source": [
    "**RANDOM NUMBERS SATISFYING SUM-TO-ONE CONDITION**"
   ]
  },
  {
   "cell_type": "code",
   "execution_count": 13,
   "id": "92f5254b",
   "metadata": {},
   "outputs": [
    {
     "name": "stdout",
     "output_type": "stream",
     "text": [
      "49.348365149555754\n",
      "1.0\n"
     ]
    }
   ],
   "source": [
    "list_of_random_floats = np.random.random(100)\n",
    "sum_of_values = list_of_random_floats.sum()\n",
    "print(sum_of_values)\n",
    "\n",
    "normalized_values = list_of_random_floats / sum_of_values\n",
    "print(normalized_values.sum())"
   ]
  },
  {
   "cell_type": "markdown",
   "id": "a1c7cf8b",
   "metadata": {},
   "source": [
    "**GENERATING RANDOM STRINGS OR PASSWORDS WITH PYTHON**"
   ]
  },
  {
   "cell_type": "code",
   "execution_count": null,
   "id": "303de541",
   "metadata": {},
   "outputs": [],
   "source": []
  },
  {
   "cell_type": "markdown",
   "id": "094ce29e",
   "metadata": {},
   "source": [
    "I will learn it after"
   ]
  },
  {
   "cell_type": "markdown",
   "id": "249e8684",
   "metadata": {},
   "source": [
    "**RANDOM INTEGER NUMBERS**\n",
    "\n",
    "*numpy.random.randint(low, high=None, size=None)*\n",
    "\n",
    "This function returns random integers from 'low' (inclusive) to 'high' (exclusive)"
   ]
  },
  {
   "cell_type": "code",
   "execution_count": 14,
   "id": "e548da4a",
   "metadata": {},
   "outputs": [
    {
     "name": "stdout",
     "output_type": "stream",
     "text": [
      "5\n",
      "[3, 6, 5, 3, 5, 3, 2, 5, 2, 3]\n"
     ]
    }
   ],
   "source": [
    "import random\n",
    "\n",
    "outcome = random.randint(1,6)\n",
    "print(outcome)\n",
    "\n",
    "A = [random.randint(1, 6) for _ in range(10)]\n",
    "print(A)"
   ]
  },
  {
   "cell_type": "code",
   "execution_count": 16,
   "id": "d67fb5dc",
   "metadata": {},
   "outputs": [
    {
     "name": "stdout",
     "output_type": "stream",
     "text": [
      "[4 4 4 5 5 6 2 3 4 1]\n"
     ]
    }
   ],
   "source": [
    "outcome = np.random.randint(1, 7, size=10)\n",
    "print(outcome)"
   ]
  },
  {
   "cell_type": "markdown",
   "id": "fe17f17f",
   "metadata": {},
   "source": [
    "numpy.random.randint(low, high=None, size=None)"
   ]
  },
  {
   "cell_type": "code",
   "execution_count": 18,
   "id": "abbe0494",
   "metadata": {},
   "outputs": [
    {
     "name": "stdout",
     "output_type": "stream",
     "text": [
      "5\n",
      "[3]\n",
      "[4 5 4 3 5 5 3 1 3 3]\n",
      "[3 3 4 3 3 5 4 1 5 6]\n",
      "[[1 2 5 3]\n",
      " [5 2 2 3]\n",
      " [2 1 6 3]\n",
      " [4 4 5 4]\n",
      " [6 6 6 3]]\n"
     ]
    }
   ],
   "source": [
    "print(np.random.randint(1, 7))\n",
    "print(np.random.randint(1, 7, size=1))\n",
    "print(np.random.randint(1, 7, size=10))\n",
    "print(np.random.randint(1, 7, size=(10,))) # the same as the \n",
    "                                           # previous one\n",
    "print(np.random.randint(1, 7, size=(5, 4)))"
   ]
  },
  {
   "cell_type": "markdown",
   "id": "40721051",
   "metadata": {},
   "source": [
    "**RANDOM CHOICES WITH PYTHON**"
   ]
  },
  {
   "cell_type": "code",
   "execution_count": 29,
   "id": "ed8bfe99",
   "metadata": {},
   "outputs": [
    {
     "name": "stdout",
     "output_type": "stream",
     "text": [
      "Berlin\n"
     ]
    }
   ],
   "source": [
    "from random import choice\n",
    "\n",
    "possible_destinations = [\"Berlin\", \"Hamburg\", \"Munich\",\n",
    "                         \"Amsterdam\", \"London\", \"Paris\",\n",
    "                         \"Zurich\", \"Heidelberg\", \"Strasbourg\",\n",
    "                         \"Augsburg\", \"Milan\", \"Rome\"]\n",
    "print(choice(possible_destinations))"
   ]
  },
  {
   "cell_type": "code",
   "execution_count": 30,
   "id": "05802f41",
   "metadata": {},
   "outputs": [
    {
     "name": "stdout",
     "output_type": "stream",
     "text": [
      "Paris\n",
      "['Augsburg' 'Milan' 'Munich']\n",
      "[['Amsterdam' 'Munich' 'Heidelberg' 'Hamburg']\n",
      " ['Amsterdam' 'Berlin' 'Zurich' 'Hamburg']\n",
      " ['Strasbourg' 'Strasbourg' 'Heidelberg' 'Augsburg']]\n"
     ]
    }
   ],
   "source": [
    "from numpy.random import choice\n",
    "\n",
    "print(choice(possible_destinations))\n",
    " \n",
    "x1 = choice(possible_destinations, size=3)\n",
    "print(x1)\n",
    "\n",
    "x2 = choice(possible_destinations, size=(3, 4))\n",
    "print(x2)"
   ]
  },
  {
   "cell_type": "code",
   "execution_count": 31,
   "id": "2d3258f0",
   "metadata": {},
   "outputs": [
    {
     "name": "stdout",
     "output_type": "stream",
     "text": [
      "[['Amsterdam' 'Zurich' 'Paris' 'Heidelberg']\n",
      " ['Strasbourg' 'Milan' 'Augsburg' 'Berlin']\n",
      " ['London' 'Rome' 'Munich' 'Hamburg']]\n"
     ]
    }
   ],
   "source": [
    "print(choice(possible_destinations, size=(3, 4), replace=False))"
   ]
  },
  {
   "cell_type": "markdown",
   "id": "332a8447",
   "metadata": {},
   "source": [
    "We can prevent multiples occurences by setting the\n",
    " optional parameter \"replace\" to \"False\""
   ]
  },
  {
   "cell_type": "markdown",
   "id": "1b3b9e64",
   "metadata": {},
   "source": [
    "**RANDOM SAMPLES WITH PYTHON**\n",
    "\n",
    "The module numpy.random contains a function random_sample, which returns random floats in the half open\n",
    " interval [0.0, 1.0)"
   ]
  },
  {
   "cell_type": "code",
   "execution_count": 34,
   "id": "3669cbb4",
   "metadata": {},
   "outputs": [
    {
     "name": "stdout",
     "output_type": "stream",
     "text": [
      "[[0.37620859 0.13594931 0.04766134 0.7537209 ]\n",
      " [0.23459178 0.45778455 0.32544858 0.07289158]\n",
      " [0.40852604 0.03121217 0.9839056  0.77751493]]\n"
     ]
    }
   ],
   "source": [
    "x = np.random.random_sample((3,4))\n",
    "print(x)"
   ]
  },
  {
   "cell_type": "code",
   "execution_count": 37,
   "id": "84f0c3da",
   "metadata": {},
   "outputs": [
    {
     "name": "stdout",
     "output_type": "stream",
     "text": [
      "[0.64225507 0.0531061  0.66519788]\n"
     ]
    }
   ],
   "source": [
    "from numpy.random import random_sample\n",
    "\n",
    "x = random_sample((3,))\n",
    "print(x)"
   ]
  },
  {
   "cell_type": "code",
   "execution_count": 39,
   "id": "c477bf32",
   "metadata": {},
   "outputs": [
    {
     "name": "stdout",
     "output_type": "stream",
     "text": [
      "[[-2.47753993  1.02269584  4.62562787]\n",
      " [ 0.90079747 -2.87651911  5.03199063]]\n"
     ]
    }
   ],
   "source": [
    "a =-3.4\n",
    "b = 5.9\n",
    " \n",
    "A = (b - a) * np.random.random_sample((2,3)) + a\n",
    "print(A)"
   ]
  },
  {
   "cell_type": "markdown",
   "id": "0b988b4e",
   "metadata": {},
   "source": [
    "You can also generate arrays with values from an arbitrary interval [a, b), where a has to be less than b. It can be done like shown up."
   ]
  },
  {
   "cell_type": "markdown",
   "id": "a7343505",
   "metadata": {},
   "source": [
    "*The standard module random of Python has a more general function \"sample\", which produces samples from a\n",
    " population*\n",
    " \n",
    "The syntax of sample:\n",
    " *sample(population, k)*"
   ]
  },
  {
   "cell_type": "code",
   "execution_count": 40,
   "id": "54b7b2a3",
   "metadata": {},
   "outputs": [
    {
     "name": "stdout",
     "output_type": "stream",
     "text": [
      "[35, 28, 1, 9, 21, 46]\n"
     ]
    }
   ],
   "source": [
    "#We want to choose a sample within a range of integers, you can - or better you should - use range as the argument for the population.\n",
    "import random\n",
    "\n",
    "print(random.sample(range(1, 50), 6))"
   ]
  },
  {
   "cell_type": "markdown",
   "id": "f136c948",
   "metadata": {},
   "source": [
    "**II. WEIGHTED PROBABILITIES**"
   ]
  },
  {
   "cell_type": "code",
   "execution_count": 41,
   "id": "d9b13e6e",
   "metadata": {},
   "outputs": [],
   "source": [
    "import numpy as np"
   ]
  },
  {
   "cell_type": "code",
   "execution_count": null,
   "id": "14a77cf6",
   "metadata": {},
   "outputs": [],
   "source": []
  }
 ],
 "metadata": {
  "kernelspec": {
   "display_name": "Python 3 (ipykernel)",
   "language": "python",
   "name": "python3"
  },
  "language_info": {
   "codemirror_mode": {
    "name": "ipython",
    "version": 3
   },
   "file_extension": ".py",
   "mimetype": "text/x-python",
   "name": "python",
   "nbconvert_exporter": "python",
   "pygments_lexer": "ipython3",
   "version": "3.11.5"
  }
 },
 "nbformat": 4,
 "nbformat_minor": 5
}
