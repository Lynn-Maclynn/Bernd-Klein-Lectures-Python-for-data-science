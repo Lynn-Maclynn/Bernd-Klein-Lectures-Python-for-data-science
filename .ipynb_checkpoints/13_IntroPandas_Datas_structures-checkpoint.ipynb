{
 "cells": [
  {
   "cell_type": "markdown",
   "id": "1a582d92",
   "metadata": {},
   "source": [
    "## SERIES\n",
    "\n",
    "A Series is a one-dimensional labelled array-like object."
   ]
  },
  {
   "cell_type": "code",
   "execution_count": 1,
   "id": "3d93c925",
   "metadata": {},
   "outputs": [
    {
     "data": {
      "text/plain": [
       "0    11\n",
       "1    28\n",
       "2    72\n",
       "3     3\n",
       "4     5\n",
       "5     8\n",
       "dtype: int64"
      ]
     },
     "execution_count": 1,
     "metadata": {},
     "output_type": "execute_result"
    }
   ],
   "source": [
    "import pandas as pd\n",
    "S = pd.Series([11, 28, 72, 3, 5, 8])\n",
    "S"
   ]
  },
  {
   "cell_type": "code",
   "execution_count": 2,
   "id": "af80002a",
   "metadata": {},
   "outputs": [
    {
     "name": "stdout",
     "output_type": "stream",
     "text": [
      "RangeIndex(start=0, stop=6, step=1)\n",
      "[11 28 72  3  5  8]\n"
     ]
    }
   ],
   "source": [
    "print(S.index)\n",
    "print(S.values)"
   ]
  },
  {
   "cell_type": "markdown",
   "id": "1c8740cf",
   "metadata": {},
   "source": [
    "So far our Series have not been very different to ndarrays of Numpy. This changes, as soon as we start defining Series objects with individual indices:"
   ]
  },
  {
   "cell_type": "code",
   "execution_count": 3,
   "id": "15d414fa",
   "metadata": {},
   "outputs": [
    {
     "data": {
      "text/plain": [
       "apples      20\n",
       "oranges     33\n",
       "cherries    52\n",
       "pears       10\n",
       "dtype: int64"
      ]
     },
     "execution_count": 3,
     "metadata": {},
     "output_type": "execute_result"
    }
   ],
   "source": [
    "import pandas as pd\n",
    "fruits = ['apples', 'oranges', 'cherries', 'pears']\n",
    "quantities = [20, 33, 52, 10]\n",
    "S = pd.Series(quantities, index=fruits)\n",
    "S"
   ]
  },
  {
   "cell_type": "code",
   "execution_count": 4,
   "id": "8e6ae279",
   "metadata": {},
   "outputs": [
    {
     "name": "stdout",
     "output_type": "stream",
     "text": [
      "20\n"
     ]
    }
   ],
   "source": [
    "print(S['apples'])"
   ]
  },
  {
   "cell_type": "code",
   "execution_count": 5,
   "id": "c1afb91f",
   "metadata": {},
   "outputs": [
    {
     "name": "stdout",
     "output_type": "stream",
     "text": [
      "apples      20\n",
      "oranges     33\n",
      "cherries    52\n",
      "dtype: int64\n"
     ]
    }
   ],
   "source": [
    "print(S[['apples', 'oranges', 'cherries']])"
   ]
  },
  {
   "cell_type": "markdown",
   "id": "d6d119f7",
   "metadata": {},
   "source": [
    "**CREATING SERIES OBJECTS FROM DICTIONARIES**"
   ]
  },
  {
   "cell_type": "code",
   "execution_count": 6,
   "id": "79dd21b9",
   "metadata": {},
   "outputs": [
    {
     "name": "stdout",
     "output_type": "stream",
     "text": [
      "London       8615246\n",
      "Berlin       3562166\n",
      "Madrid       3165235\n",
      "Rome         2874038\n",
      "Paris        2273305\n",
      "Vienna       1805681\n",
      "Bucharest    1803425\n",
      "Hamburg      1760433\n",
      "Budapest     1754000\n",
      "Warsaw       1740119\n",
      "Barcelona    1602386\n",
      "Munich       1493900\n",
      "Milan        1350680\n",
      "dtype: int64\n"
     ]
    }
   ],
   "source": [
    "cities = {\"London\":8615246,\n",
    "          \"Berlin\":3562166,\n",
    "          \"Madrid\": 3165235,\n",
    "          \"Rome\":2874038,\n",
    "          \"Paris\":  2273305,\n",
    "          \"Vienna\":1805681, \n",
    "          \"Bucharest\": 1803425,\n",
    "          \"Hamburg\":1760433,\n",
    "          \"Budapest\": 1754000,\n",
    "          \"Warsaw\":1740119,\n",
    "          \"Barcelona\": 1602386,\n",
    "          \"Munich\":1493900,\n",
    "          \"Milan\":1350680}\n",
    "city_series = pd.Series(cities)\n",
    "print(city_series)"
   ]
  },
  {
   "cell_type": "markdown",
   "id": "3b1977d4",
   "metadata": {},
   "source": [
    "**NAN - MISSING DATA**\n",
    "\n",
    "Some cities from the\n",
    " dictionary will be missing and two cities\n",
    " (\"Zurich\" and \"Stuttgart\") don't occur in the dictionary"
   ]
  },
  {
   "cell_type": "code",
   "execution_count": 7,
   "id": "d1eee285",
   "metadata": {},
   "outputs": [
    {
     "data": {
      "text/plain": [
       "London       8615246.0\n",
       "Paris        2273305.0\n",
       "Zurich             NaN\n",
       "Berlin       3562166.0\n",
       "Stuttgart          NaN\n",
       "Hamburg      1760433.0\n",
       "dtype: float64"
      ]
     },
     "execution_count": 7,
     "metadata": {},
     "output_type": "execute_result"
    }
   ],
   "source": [
    "my_cities = [\"London\", \"Paris\", \"Zurich\", \"Berlin\", \"Stuttgart\", \"Hamburg\"]\n",
    "my_city_series = pd.Series(cities, index=my_cities)\n",
    "my_city_series"
   ]
  },
  {
   "cell_type": "markdown",
   "id": "e4bf6e0b",
   "metadata": {},
   "source": [
    "**THE METHODS ISNULL() AND NOTNULL()**"
   ]
  },
  {
   "cell_type": "code",
   "execution_count": 8,
   "id": "698c82b4",
   "metadata": {},
   "outputs": [
    {
     "name": "stdout",
     "output_type": "stream",
     "text": [
      "London       False\n",
      "Paris        False\n",
      "Zurich        True\n",
      "Berlin       False\n",
      "Stuttgart     True\n",
      "Hamburg      False\n",
      "dtype: bool\n"
     ]
    }
   ],
   "source": [
    "my_cities = [\"London\", \"Paris\", \"Zurich\", \"Berlin\", \"Stuttgart\", \"Hamburg\"]\n",
    "my_city_series = pd.Series(cities, index=my_cities)\n",
    "print(my_city_series.isnull())"
   ]
  },
  {
   "cell_type": "code",
   "execution_count": 9,
   "id": "fd85acec",
   "metadata": {},
   "outputs": [
    {
     "name": "stdout",
     "output_type": "stream",
     "text": [
      "London        True\n",
      "Paris         True\n",
      "Zurich       False\n",
      "Berlin        True\n",
      "Stuttgart    False\n",
      "Hamburg       True\n",
      "dtype: bool\n"
     ]
    }
   ],
   "source": [
    "print(my_city_series.notnull())"
   ]
  },
  {
   "cell_type": "markdown",
   "id": "630ba8d8",
   "metadata": {},
   "source": [
    "**FILTERING OUT MISSING DATA**\n",
    "\n",
    "It's possible to filter out missing data with the Series method **dropna**. It returns a Series which consists only of\n",
    " non-null data:"
   ]
  },
  {
   "cell_type": "code",
   "execution_count": 10,
   "id": "8500da31",
   "metadata": {},
   "outputs": [
    {
     "name": "stdout",
     "output_type": "stream",
     "text": [
      "London     8615246.0\n",
      "Paris      2273305.0\n",
      "Berlin     3562166.0\n",
      "Hamburg    1760433.0\n",
      "dtype: float64\n"
     ]
    }
   ],
   "source": [
    "print(my_city_series.dropna())"
   ]
  },
  {
   "cell_type": "markdown",
   "id": "5a0098ff",
   "metadata": {},
   "source": [
    "**FILLING IN MISSING DATA**\n",
    "\n",
    "In many cases you don't want to filter out missing data, but you want to fill in appropriate data for the empty\n",
    " gaps. A suitable method in many situations will be **fillna**:"
   ]
  },
  {
   "cell_type": "code",
   "execution_count": 11,
   "id": "6bf46585",
   "metadata": {},
   "outputs": [
    {
     "name": "stdout",
     "output_type": "stream",
     "text": [
      "London       8615246.0\n",
      "Paris        2273305.0\n",
      "Zurich             0.0\n",
      "Berlin       3562166.0\n",
      "Stuttgart          0.0\n",
      "Hamburg      1760433.0\n",
      "dtype: float64\n"
     ]
    }
   ],
   "source": [
    "print(my_city_series.fillna(0))"
   ]
  },
  {
   "cell_type": "markdown",
   "id": "be826c6a",
   "metadata": {},
   "source": [
    "Okay, that's not what we call \"fill in appropriate data for the empty gaps\". If we call fillna with a dict, we can\n",
    " provide the appropriate data, i.e. the population of Zurich and Stuttgart"
   ]
  },
  {
   "cell_type": "code",
   "execution_count": 12,
   "id": "72d5b23a",
   "metadata": {},
   "outputs": [
    {
     "data": {
      "text/plain": [
       "London       8615246.0\n",
       "Paris        2273305.0\n",
       "Zurich        378884.0\n",
       "Berlin       3562166.0\n",
       "Stuttgart     597939.0\n",
       "Hamburg      1760433.0\n",
       "dtype: float64"
      ]
     },
     "execution_count": 12,
     "metadata": {},
     "output_type": "execute_result"
    }
   ],
   "source": [
    "missing_cities = {\"Stuttgart\":597939, \"Zurich\":378884}\n",
    "my_city_series.fillna(missing_cities)"
   ]
  },
  {
   "cell_type": "markdown",
   "id": "a0e054b8",
   "metadata": {},
   "source": [
    "We still have the problem that integer values - which means values which should be integers like number of\n",
    " people - are converted to float as soon as we have NaN values. We can solve this problem now with the\n",
    " method 'fillna':"
   ]
  },
  {
   "cell_type": "code",
   "execution_count": 13,
   "id": "b3214dd2",
   "metadata": {},
   "outputs": [
    {
     "name": "stdout",
     "output_type": "stream",
     "text": [
      "London       8615246\n",
      "Paris        2273305\n",
      "Zurich             0\n",
      "Berlin       3562166\n",
      "Stuttgart          0\n",
      "Hamburg      1760433\n",
      "dtype: int32\n"
     ]
    }
   ],
   "source": [
    "cities = {\"London\":8615246,\n",
    "          \"Berlin\":3562166,\n",
    "          \"Madrid\": 3165235,\n",
    "          \"Rome\":2874038,\n",
    "          \"Paris\":  2273305,\n",
    "          \"Vienna\":1805681, \n",
    "          \"Bucharest\": 1803425,\n",
    "          \"Hamburg\":1760433,\n",
    "          \"Budapest\": 1754000,\n",
    "          \"Warsaw\":1740119,\n",
    "          \"Barcelona\": 1602386,\n",
    "          \"Munich\":1493900,\n",
    "          \"Milan\":1350680}\n",
    "\n",
    "my_cities = [\"London\", \"Paris\", \"Zurich\", \"Berlin\", \"Stuttgart\", \"Hamburg\"]\n",
    "my_city_series = pd.Series(cities, index=my_cities)\n",
    "my_city_series = my_city_series.fillna(0).astype(int)\n",
    "print(my_city_series)"
   ]
  },
  {
   "cell_type": "markdown",
   "id": "04c68bb2",
   "metadata": {},
   "source": [
    "## DATAFRAME\n",
    "\n",
    "A DataFrame can be seen as a\n",
    " concatenation of Series, each Series having the same\n",
    " index, i.e. the index of the DataFrame."
   ]
  },
  {
   "cell_type": "code",
   "execution_count": null,
   "id": "90a238b7",
   "metadata": {},
   "outputs": [],
   "source": []
  }
 ],
 "metadata": {
  "kernelspec": {
   "display_name": "Python 3 (ipykernel)",
   "language": "python",
   "name": "python3"
  },
  "language_info": {
   "codemirror_mode": {
    "name": "ipython",
    "version": 3
   },
   "file_extension": ".py",
   "mimetype": "text/x-python",
   "name": "python",
   "nbconvert_exporter": "python",
   "pygments_lexer": "ipython3",
   "version": "3.11.5"
  }
 },
 "nbformat": 4,
 "nbformat_minor": 5
}
